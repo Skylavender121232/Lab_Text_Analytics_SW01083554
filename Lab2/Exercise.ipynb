{
 "cells": [
  {
   "cell_type": "code",
   "execution_count": 1,
   "id": "d4f33111-c367-45f2-a4ac-0141d865ca0d",
   "metadata": {},
   "outputs": [],
   "source": [
    "import re"
   ]
  },
  {
   "cell_type": "code",
   "execution_count": null,
   "id": "f33eabc8-1c98-4638-a5eb-14cd9db273a7",
   "metadata": {},
   "outputs": [],
   "source": [
    "#1. Write a Python program that extracts all digits from the following text. "
   ]
  },
  {
   "cell_type": "code",
   "execution_count": 9,
   "id": "e9ebb068-0eb7-44f0-b1b3-fbd3cf414b53",
   "metadata": {},
   "outputs": [
    {
     "name": "stdout",
     "output_type": "stream",
     "text": [
      "Digits found: ['2', '4', '5', '6', '7', '8', '9', '3', '4', '1', '2', '3', '0']\n"
     ]
    }
   ],
   "source": [
    "text = \"Order number: 24567, Tracking ID: 8934A12, Quantity: 30\" \n",
    "# Write your regular expression here \n",
    "pattern = r'\\d'\n",
    "matches = re.findall(pattern, text) \n",
    "print(\"Digits found:\", matches) "
   ]
  },
  {
   "cell_type": "code",
   "execution_count": null,
   "id": "5aec76e4-4784-4bba-b9e7-208fa02eaf2f",
   "metadata": {},
   "outputs": [],
   "source": [
    "#Extract all non-alphanumeric characters (spaces, punctuation, etc.) from the text. "
   ]
  },
  {
   "cell_type": "code",
   "execution_count": 23,
   "id": "d20ca1c0-ad23-488a-ab54-f429b8fa66ec",
   "metadata": {},
   "outputs": [
    {
     "name": "stdout",
     "output_type": "stream",
     "text": [
      "Non-alphanumeric characters: ['!', ' ', \"'\", ' ', ' ', ' ', '?', ' ', ' ', ' ', '@', ' ', '.']\n"
     ]
    }
   ],
   "source": [
    "text = \"Welcome! How's your day going? Call me @ 3pm.\" \n",
    "pattern = r'[^a-zA-Z0-9_]'\n",
    "matches = re.findall(pattern, text) \n",
    "print(\"Non-alphanumeric characters:\", matches) "
   ]
  },
  {
   "cell_type": "code",
   "execution_count": null,
   "id": "90e76048-956f-47c7-a81e-e4e17216633e",
   "metadata": {},
   "outputs": [],
   "source": [
    "#3. Split the text at commas and periods. "
   ]
  },
  {
   "cell_type": "code",
   "execution_count": 39,
   "id": "54cb166d-9f2c-4bb7-bfec-1c4d9c2790ad",
   "metadata": {},
   "outputs": [
    {
     "name": "stdout",
     "output_type": "stream",
     "text": [
      "Split text: ['Data Science', ' AI', ' and Machine Learning', ' These fields are growing fast', '']\n"
     ]
    }
   ],
   "source": [
    "text = \"Data Science, AI, and Machine Learning. These fields are growing fast.\" \n",
    "pattern =  r'[.,]'\n",
    "split_text = re.split(pattern, text) \n",
    "print(\"Split text:\", split_text) "
   ]
  },
  {
   "cell_type": "code",
   "execution_count": null,
   "id": "c96209eb-b6a5-4f03-a460-bcfc84bddf53",
   "metadata": {},
   "outputs": [],
   "source": [
    "#4. Replace email addresses with [HIDDEN]."
   ]
  },
  {
   "cell_type": "code",
   "execution_count": 115,
   "id": "6f44a259-091a-4aa1-90c4-bfe70a23d7f3",
   "metadata": {},
   "outputs": [
    {
     "name": "stdout",
     "output_type": "stream",
     "text": [
      "Anonymized text: Contact us at [HIDDEN] or [HIDDEN]\n"
     ]
    }
   ],
   "source": [
    "text = \"Contact us at support@example.com or info@company.org\" \n",
    "pattern = r'\\w+@\\w+.(\\w+\\w+)' \n",
    "new_text = re.sub(pattern, \"[HIDDEN]\", text) \n",
    "print(\"Anonymized text:\", new_text) "
   ]
  },
  {
   "cell_type": "code",
   "execution_count": null,
   "id": "076d5803-7581-4103-b9e8-b59b4d543e9d",
   "metadata": {},
   "outputs": [],
   "source": [
    "#5. Extract only the domain types (e.g., com, org, edu) from email addresses. "
   ]
  },
  {
   "cell_type": "code",
   "execution_count": 97,
   "id": "375d31cd-58f8-41a1-bad7-3779844f0009",
   "metadata": {},
   "outputs": [
    {
     "name": "stdout",
     "output_type": "stream",
     "text": [
      "Domain types: ['com', 'edu', 'org']\n"
     ]
    }
   ],
   "source": [
    "text = \"Emails: user@gmail.com, admin@university.edu, info@company.org\" \n",
    "pattern = r'@\\w+.(\\w+.\\w+)' \n",
    "matches = re.findall(pattern, text) \n",
    "print(\"Domain types:\", matches) "
   ]
  }
 ],
 "metadata": {
  "kernelspec": {
   "display_name": "Python [conda env:base] *",
   "language": "python",
   "name": "conda-base-py"
  },
  "language_info": {
   "codemirror_mode": {
    "name": "ipython",
    "version": 3
   },
   "file_extension": ".py",
   "mimetype": "text/x-python",
   "name": "python",
   "nbconvert_exporter": "python",
   "pygments_lexer": "ipython3",
   "version": "3.12.7"
  }
 },
 "nbformat": 4,
 "nbformat_minor": 5
}
