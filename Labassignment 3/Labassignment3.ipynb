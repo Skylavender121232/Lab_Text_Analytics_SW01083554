{
 "cells": [
  {
   "cell_type": "code",
   "execution_count": 1,
   "id": "5c549629-3387-447f-a3eb-cffe03851a11",
   "metadata": {},
   "outputs": [
    {
     "name": "stdout",
     "output_type": "stream",
     "text": [
      "Requirement already satisfied: nltk in c:\\users\\kingd\\anaconda3\\lib\\site-packages (3.9.1)\n",
      "Requirement already satisfied: gensim in c:\\users\\kingd\\anaconda3\\lib\\site-packages (4.3.3)\n",
      "Requirement already satisfied: pandas in c:\\users\\kingd\\anaconda3\\lib\\site-packages (2.2.2)\n",
      "Requirement already satisfied: matplotlib in c:\\users\\kingd\\anaconda3\\lib\\site-packages (3.9.2)\n",
      "Requirement already satisfied: click in c:\\users\\kingd\\anaconda3\\lib\\site-packages (from nltk) (8.1.7)\n",
      "Requirement already satisfied: joblib in c:\\users\\kingd\\anaconda3\\lib\\site-packages (from nltk) (1.4.2)\n",
      "Requirement already satisfied: regex>=2021.8.3 in c:\\users\\kingd\\anaconda3\\lib\\site-packages (from nltk) (2024.9.11)\n",
      "Requirement already satisfied: tqdm in c:\\users\\kingd\\anaconda3\\lib\\site-packages (from nltk) (4.66.5)\n",
      "Requirement already satisfied: numpy<2.0,>=1.18.5 in c:\\users\\kingd\\anaconda3\\lib\\site-packages (from gensim) (1.26.4)\n",
      "Requirement already satisfied: scipy<1.14.0,>=1.7.0 in c:\\users\\kingd\\anaconda3\\lib\\site-packages (from gensim) (1.13.1)\n",
      "Requirement already satisfied: smart-open>=1.8.1 in c:\\users\\kingd\\anaconda3\\lib\\site-packages (from gensim) (5.2.1)\n",
      "Requirement already satisfied: python-dateutil>=2.8.2 in c:\\users\\kingd\\anaconda3\\lib\\site-packages (from pandas) (2.9.0.post0)\n",
      "Requirement already satisfied: pytz>=2020.1 in c:\\users\\kingd\\anaconda3\\lib\\site-packages (from pandas) (2024.1)\n",
      "Requirement already satisfied: tzdata>=2022.7 in c:\\users\\kingd\\anaconda3\\lib\\site-packages (from pandas) (2023.3)\n",
      "Requirement already satisfied: contourpy>=1.0.1 in c:\\users\\kingd\\anaconda3\\lib\\site-packages (from matplotlib) (1.2.0)\n",
      "Requirement already satisfied: cycler>=0.10 in c:\\users\\kingd\\anaconda3\\lib\\site-packages (from matplotlib) (0.11.0)\n",
      "Requirement already satisfied: fonttools>=4.22.0 in c:\\users\\kingd\\anaconda3\\lib\\site-packages (from matplotlib) (4.51.0)\n",
      "Requirement already satisfied: kiwisolver>=1.3.1 in c:\\users\\kingd\\anaconda3\\lib\\site-packages (from matplotlib) (1.4.4)\n",
      "Requirement already satisfied: packaging>=20.0 in c:\\users\\kingd\\anaconda3\\lib\\site-packages (from matplotlib) (24.1)\n",
      "Requirement already satisfied: pillow>=8 in c:\\users\\kingd\\anaconda3\\lib\\site-packages (from matplotlib) (10.4.0)\n",
      "Requirement already satisfied: pyparsing>=2.3.1 in c:\\users\\kingd\\anaconda3\\lib\\site-packages (from matplotlib) (3.1.2)\n",
      "Requirement already satisfied: six>=1.5 in c:\\users\\kingd\\anaconda3\\lib\\site-packages (from python-dateutil>=2.8.2->pandas) (1.16.0)\n",
      "Requirement already satisfied: colorama in c:\\users\\kingd\\anaconda3\\lib\\site-packages (from click->nltk) (0.4.6)\n",
      "Note: you may need to restart the kernel to use updated packages.\n"
     ]
    }
   ],
   "source": [
    "pip install nltk gensim pandas matplotlib\n"
   ]
  },
  {
   "cell_type": "code",
   "execution_count": 1,
   "id": "a41310e7-ff6c-49fa-815f-a1c952f337a5",
   "metadata": {},
   "outputs": [
    {
     "name": "stderr",
     "output_type": "stream",
     "text": [
      "[nltk_data] Downloading package punkt to\n",
      "[nltk_data]     C:\\Users\\kingd\\AppData\\Roaming\\nltk_data...\n",
      "[nltk_data]   Package punkt is already up-to-date!\n",
      "[nltk_data] Downloading package stopwords to\n",
      "[nltk_data]     C:\\Users\\kingd\\AppData\\Roaming\\nltk_data...\n",
      "[nltk_data]   Package stopwords is already up-to-date!\n",
      "[nltk_data] Downloading package wordnet to\n",
      "[nltk_data]     C:\\Users\\kingd\\AppData\\Roaming\\nltk_data...\n",
      "[nltk_data]   Package wordnet is already up-to-date!\n"
     ]
    },
    {
     "name": "stdout",
     "output_type": "stream",
     "text": [
      "Topic: 0 \n",
      "Words: 0.012*\"would\" + 0.010*\"peopl\" + 0.009*\"one\" + 0.007*\"know\" + 0.006*\"govern\" + 0.006*\"say\" + 0.006*\"think\" + 0.006*\"like\" + 0.006*\"go\" + 0.006*\"right\"\n",
      "\n",
      "Topic: 1 \n",
      "Words: 0.011*\"post\" + 0.010*\"presid\" + 0.008*\"group\" + 0.008*\"new\" + 0.008*\"privaci\" + 0.007*\"administr\" + 0.006*\"secur\" + 0.006*\"inform\" + 0.006*\"stephanopoulo\" + 0.006*\"interest\"\n",
      "\n",
      "Topic: 2 \n",
      "Words: 0.111*\"q\" + 0.044*\"x\" + 0.037*\"n\" + 0.035*\"e\" + 0.027*\"k\" + 0.019*\"p\" + 0.019*\"c\" + 0.015*\"f\" + 0.014*\"bh\" + 0.014*\"r\"\n",
      "\n",
      "Topic: 3 \n",
      "Words: 0.035*\"key\" + 0.027*\"use\" + 0.024*\"encrypt\" + 0.017*\"chip\" + 0.015*\"db\" + 0.013*\"system\" + 0.010*\"anonym\" + 0.009*\"file\" + 0.008*\"data\" + 0.008*\"comput\"\n",
      "\n",
      "Coherence Score: 0.6380\n"
     ]
    }
   ],
   "source": [
    "import pandas as pd\n",
    "import nltk\n",
    "import gensim\n",
    "import gensim.corpora as corpora\n",
    "from nltk.corpus import stopwords\n",
    "from nltk.stem import WordNetLemmatizer, PorterStemmer\n",
    "from nltk.tokenize import word_tokenize\n",
    "from gensim.models import CoherenceModel, LdaModel\n",
    "import matplotlib.pyplot as plt\n",
    "\n",
    "# Download NLTK resources\n",
    "nltk.download('punkt')\n",
    "nltk.download('stopwords')\n",
    "nltk.download('wordnet')\n",
    "\n",
    "# Load dataset\n",
    "df = pd.read_csv('news_dataset.csv')\n",
    "df = df[['text']].dropna()\n",
    "\n",
    "# Preprocessing\n",
    "stop_words = set(stopwords.words('english'))\n",
    "stemmer = PorterStemmer()\n",
    "lemmatizer = WordNetLemmatizer()\n",
    "\n",
    "def preprocess(text):\n",
    "    tokens = word_tokenize(text.lower())\n",
    "    tokens = [word for word in tokens if word.isalpha() and word not in stop_words]\n",
    "    tokens = [lemmatizer.lemmatize(stemmer.stem(word)) for word in tokens]\n",
    "    return tokens\n",
    "\n",
    "df['tokens'] = df['text'].apply(preprocess)\n",
    "\n",
    "# Dictionary and Corpus\n",
    "id2word = corpora.Dictionary(df['tokens'])\n",
    "corpus = [id2word.doc2bow(text) for text in df['tokens']]\n",
    "\n",
    "# Build LDA Model\n",
    "lda_model = LdaModel(corpus=corpus, id2word=id2word, num_topics=4, random_state=42, update_every=1, chunksize=100, passes=10, alpha='auto', per_word_topics=True)\n",
    "\n",
    "# Topics\n",
    "for idx, topic in lda_model.print_topics(-1):\n",
    "    print(f\"Topic: {idx} \\nWords: {topic}\\n\")\n",
    "\n",
    "# Coherence Score\n",
    "coherence_model_lda = CoherenceModel(model=lda_model, texts=df['tokens'], dictionary=id2word, coherence='c_v')\n",
    "coherence_lda = coherence_model_lda.get_coherence()\n",
    "print(f'Coherence Score: {coherence_lda:.4f}')\n"
   ]
  },
  {
   "cell_type": "code",
   "execution_count": 13,
   "id": "70c3040c-ebb3-4a0e-bc8f-064b2f1b5518",
   "metadata": {},
   "outputs": [],
   "source": [
    "##Devendran a/l Pathamanathan SW01083554\n",
    "##Ishamie Syazwina IS01083940\n",
    "\n",
    "## Interpretation of Coherence Score\n",
    "\n",
    "##The coherence score is used to check how good the topics are. \n",
    "##A higher score which is close to 1.0, means the topics makes much more sense and the keywords in each topic are related. \n",
    "##In this case, the coherence score of 0.6380 shows that the model managed to group the text into topics that are understandable. \n",
    "##This means the topic modeling was successful. Thank you <3.\n",
    "\n"
   ]
  }
 ],
 "metadata": {
  "kernelspec": {
   "display_name": "Python [conda env:base] *",
   "language": "python",
   "name": "conda-base-py"
  },
  "language_info": {
   "codemirror_mode": {
    "name": "ipython",
    "version": 3
   },
   "file_extension": ".py",
   "mimetype": "text/x-python",
   "name": "python",
   "nbconvert_exporter": "python",
   "pygments_lexer": "ipython3",
   "version": "3.12.7"
  }
 },
 "nbformat": 4,
 "nbformat_minor": 5
}
