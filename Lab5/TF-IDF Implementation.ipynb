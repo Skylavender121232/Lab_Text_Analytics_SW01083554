{
 "cells": [
  {
   "cell_type": "code",
   "execution_count": 3,
   "id": "fdfb46fe-7b14-459d-bc73-a8fe7c1c372d",
   "metadata": {},
   "outputs": [
    {
     "name": "stdout",
     "output_type": "stream",
     "text": [
      "TF, IDF, and TF-IDF scores successfully computed and saved!\n"
     ]
    }
   ],
   "source": [
    "import pandas as pd\n",
    "import math  # For log function\n",
    "from collections import Counter\n",
    "\n",
    "# Load the dataset\n",
    "file_path = \"Processed_Reviews.csv\"\n",
    "df = pd.read_csv(file_path)\n",
    "\n",
    "# Convert tokenized column to lowercase and drop NaN values\n",
    "tokenized_reviews = df['tokenized'].dropna().apply(lambda x: x.lower())\n",
    "\n",
    "# Function to compute Term Frequency (TF)\n",
    "def compute_tf(document):\n",
    "    word_count = Counter(document.split())  # Tokenize by splitting words\n",
    "    tf = {word: count / len(document.split()) for word, count in word_count.items()}\n",
    "    return tf\n",
    "\n",
    "# Function to compute Inverse Document Frequency (IDF)\n",
    "def compute_idf(documents):\n",
    "    N = len(documents)  # Total number of documents\n",
    "    idf = {}\n",
    "    \n",
    "    # Create a set of all unique words in documents\n",
    "    all_words = set(word for doc in documents for word in doc.split())  \n",
    "    \n",
    "    for word in all_words:\n",
    "        count = sum(1 for doc in documents if word in doc.split())  # Count docs containing word\n",
    "        if count > 0:\n",
    "            idf[word] = math.log(N / count)  # Compute IDF\n",
    "        else:\n",
    "            idf[word] = 0  # Avoid division errors\n",
    "    \n",
    "    return idf\n",
    "\n",
    "# Function to compute TF-IDF\n",
    "def compute_tfidf(document, idf):\n",
    "    tfidf = {}\n",
    "    tf = compute_tf(document)\n",
    "    \n",
    "    for word, tf_value in tf.items():\n",
    "        if word in idf:  # Ensure word exists in IDF before multiplying\n",
    "            tfidf[word] = tf_value * idf[word]\n",
    "        else:\n",
    "            print(f\"Warning: '{word}' not found in IDF. Setting TF-IDF to 0.\")\n",
    "            tfidf[word] = 0  # Assign 0 if the word is missing\n",
    "    \n",
    "    return tfidf\n",
    "\n",
    "# Convert tokenized reviews into a list\n",
    "documents = tokenized_reviews.tolist()\n",
    "\n",
    "# Compute TF scores, convert to DataFrame, and save to CSV\n",
    "tf_data = [compute_tf(doc) for doc in documents]\n",
    "tf_df = pd.DataFrame(tf_data).fillna(0)\n",
    "tf_df.to_csv(\"tf_scores.csv\", index=False)\n",
    "\n",
    "# Compute IDF scores, convert to DataFrame, and save to CSV\n",
    "idf = compute_idf(documents)\n",
    "idf_df = pd.DataFrame([idf]).fillna(0)\n",
    "idf_df.to_csv(\"idf_scores.csv\", index=False)\n",
    "\n",
    "# Compute TF-IDF scores, convert to DataFrame, and save to CSV\n",
    "tfidf_data = [compute_tfidf(doc, idf) for doc in documents]\n",
    "tfidf_df = pd.DataFrame(tfidf_data).fillna(0)\n",
    "tfidf_df.to_csv(\"tfidf_scores.csv\", index=False)\n",
    "\n",
    "print(\"TF, IDF, and TF-IDF scores successfully computed and saved!\")\n"
   ]
  }
 ],
 "metadata": {
  "kernelspec": {
   "display_name": "Python 3 (ipykernel)",
   "language": "python",
   "name": "python3"
  },
  "language_info": {
   "codemirror_mode": {
    "name": "ipython",
    "version": 3
   },
   "file_extension": ".py",
   "mimetype": "text/x-python",
   "name": "python",
   "nbconvert_exporter": "python",
   "pygments_lexer": "ipython3",
   "version": "3.12.7"
  }
 },
 "nbformat": 4,
 "nbformat_minor": 5
}
