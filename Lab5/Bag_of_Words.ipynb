{
 "cells": [
  {
   "cell_type": "code",
   "execution_count": 15,
   "id": "5de99d19-1edc-40c4-bea7-667950d9f71b",
   "metadata": {},
   "outputs": [],
   "source": [
    "#Import necessary libraries\n",
    "from collections import Counter #count word occurrences \n",
    "import pandas as pd "
   ]
  },
  {
   "cell_type": "code",
   "execution_count": 16,
   "id": "eb50c361-4d85-4675-9ada-5eaf549104e4",
   "metadata": {},
   "outputs": [],
   "source": [
    "#Load pre-processed file: \n",
    "file_path = \"Processed_Reviews.csv\" \n",
    "df = pd.read_csv(file_path) "
   ]
  },
  {
   "cell_type": "code",
   "execution_count": 17,
   "id": "4ca09c0e-c736-43ba-822a-00c507218b0e",
   "metadata": {},
   "outputs": [],
   "source": [
    "#Extract the tokenized text data:\n",
    "tokenized_reviews = df['tokenized'].dropna().apply(eval) "
   ]
  },
  {
   "cell_type": "code",
   "execution_count": 18,
   "id": "def8c7e0-e63c-4777-8d7d-26148d8078cc",
   "metadata": {},
   "outputs": [],
   "source": [
    "#List all unique words\n",
    "all_words = [word for review in tokenized_reviews for word in review] \n",
    "unique_words = list(set(all_words))"
   ]
  },
  {
   "cell_type": "code",
   "execution_count": 19,
   "id": "3c9a6715-d850-40e9-a76c-baecd1b27b22",
   "metadata": {},
   "outputs": [],
   "source": [
    "#Create word frequency table\n",
    "word_freq = Counter(all_words) \n",
    "sorted_word_freq = dict(sorted(word_freq.items(), key=lambda item: item[1], reverse=True)) "
   ]
  },
  {
   "cell_type": "code",
   "execution_count": 20,
   "id": "bbc0a171-4edc-4377-ab27-ac1e26dee687",
   "metadata": {},
   "outputs": [],
   "source": [
    "#Create document vectors\n",
    "document_vectors = [] \n",
    "for review in tokenized_reviews: \n",
    "    document_vector = [1 if word in review else 0 for word in sorted_word_freq.keys()] \n",
    "    document_vectors.append(document_vector)"
   ]
  },
  {
   "cell_type": "code",
   "execution_count": 21,
   "id": "8f724ed1-538f-40eb-9c00-790af046f176",
   "metadata": {},
   "outputs": [],
   "source": [
    "#Convert document vectors to DataFrame\n",
    "doc_vectors_df = pd.DataFrame(document_vectors, columns=sorted_word_freq.keys()) "
   ]
  },
  {
   "cell_type": "code",
   "execution_count": 22,
   "id": "d1570a97-7e6b-4e20-a2fe-089e1a3030fa",
   "metadata": {},
   "outputs": [],
   "source": [
    "#Save document vectors to CSV file\n",
    "doc_vectors_df.to_csv(\"document_vectors.csv\", index=False) "
   ]
  },
  {
   "cell_type": "code",
   "execution_count": 23,
   "id": "5c062170-31e8-4209-866c-0b438dbdc7ce",
   "metadata": {},
   "outputs": [
    {
     "name": "stdout",
     "output_type": "stream",
     "text": [
      "Word Frequency Table:\n",
      "           Word  Frequency\n",
      "0       product          7\n",
      "1       quality          3\n",
      "2         great          2\n",
      "3       amazing          2\n",
      "4          love          2\n",
      "5       awesome          2\n",
      "6          work          2\n",
      "7     perfectly          2\n",
      "8          life          2\n",
      "9        expect          2\n",
      "10       arrive          1\n",
      "11         time          1\n",
      "12    packaging          1\n",
      "13        amaze          1\n",
      "14          buy          1\n",
      "15        phone          1\n",
      "16           hz          1\n",
      "17      display          1\n",
      "18      totally          1\n",
      "19        worth          1\n",
      "20          wow          1\n",
      "21          bit          1\n",
      "22    expensive          1\n",
      "23       laptop          1\n",
      "24         fine          1\n",
      "25        check          1\n",
      "26         full          1\n",
      "27       detail          1\n",
      "28     purchase          1\n",
      "29        happy          1\n",
      "30      battery          1\n",
      "31    excellent          1\n",
      "32       charge          1\n",
      "33        cable          1\n",
      "34        short          1\n",
      "35          can          1\n",
      "36          not          1\n",
      "37      believe          1\n",
      "38         good          1\n",
      "39         fast          1\n",
      "40     delivery          1\n",
      "41       honest          1\n",
      "42         much          1\n",
      "43           oh          1\n",
      "44          god          1\n",
      "45         best          1\n",
      "46         ever          1\n",
      "47          use          1\n",
      "48         shoe          1\n",
      "49  comfortable          1\n",
      "50          fit          1\n",
      "51       nicely          1\n",
      "52          jog          1\n"
     ]
    }
   ],
   "source": [
    "#Display word frequency table\n",
    "word_freq_df = pd.DataFrame(list(sorted_word_freq.items()), columns=[\"Word\", \"Frequency\"]) \n",
    "print(\"Word Frequency Table:\") \n",
    "print(word_freq_df) "
   ]
  }
 ],
 "metadata": {
  "kernelspec": {
   "display_name": "Python 3 (ipykernel)",
   "language": "python",
   "name": "python3"
  },
  "language_info": {
   "codemirror_mode": {
    "name": "ipython",
    "version": 3
   },
   "file_extension": ".py",
   "mimetype": "text/x-python",
   "name": "python",
   "nbconvert_exporter": "python",
   "pygments_lexer": "ipython3",
   "version": "3.12.7"
  }
 },
 "nbformat": 4,
 "nbformat_minor": 5
}
